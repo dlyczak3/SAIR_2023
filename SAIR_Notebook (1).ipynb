{
  "cells": [
    {
      "cell_type": "markdown",
      "source": [
        "#<font color='#7800FF'>**This notebook leverages a color code:**</font>\n",
        "\n",
        "*   <font color='#E04F39'>Denotes a Code Cell</font>\n",
        "*   <font color='#2961FF'>Section Title</font>\n",
        "*   <font color='#64CCC9'>Denotes Text you can skip as we will speak to them together</font>\n",
        "*   <font color='#003057'>Something Else?</font>\n",
        "\n"
      ],
      "metadata": {
        "id": "gnW1OYXJkvMT"
      },
      "id": "gnW1OYXJkvMT"
    },
    {
      "cell_type": "markdown",
      "id": "da0b6160-bf45-49d3-a306-2c2e80b7938a",
      "metadata": {
        "deletable": false,
        "editable": false,
        "id": "da0b6160-bf45-49d3-a306-2c2e80b7938a",
        "tags": []
      },
      "source": [
        "#<font color='#7800FF'>**Navigating College Scorecard Data with Jupyter Notebooks**</font>\n",
        "#### <font color='#64CCC9'>We will work through accessing and examining College Scorecard data via an API. This is not meant to be a rigorous dive into any of these tools. This is an introduction to what is possible through (slightly) advanced data analytics</font>\n"
      ]
    },
    {
      "cell_type": "code",
      "execution_count": null,
      "id": "b9e62041-6607-4eaa-8dd3-8ca85a10d74b",
      "metadata": {
        "cellView": "form",
        "deletable": false,
        "editable": false,
        "id": "b9e62041-6607-4eaa-8dd3-8ca85a10d74b",
        "tags": []
      },
      "outputs": [],
      "source": [
        "# @title <font color='#E04F39'>Let's test whether you're ready to proceed</font>\n",
        "#To Start, run this cell to confirm you are successfully connected to a kernal\n",
        "print('hello world')"
      ]
    },
    {
      "cell_type": "markdown",
      "id": "aeb93f51-6cd7-4c6d-88b2-bca85236e16d",
      "metadata": {
        "deletable": false,
        "editable": false,
        "id": "aeb93f51-6cd7-4c6d-88b2-bca85236e16d",
        "tags": []
      },
      "source": [
        "## <font color='#2961FF'>Stage 0: Intro to our tools</font>\n",
        "<font color='#64CCC9'>This section shares references to better understand the tools we will use</font>"
      ]
    },
    {
      "cell_type": "markdown",
      "id": "4ce35b0b-b1c0-4a26-bad0-27eba5e41307",
      "metadata": {
        "deletable": false,
        "editable": false,
        "id": "4ce35b0b-b1c0-4a26-bad0-27eba5e41307",
        "tags": []
      },
      "source": [
        "### APIs\n",
        "\n",
        "![image.png](https://raw.githubusercontent.com/dlyczak3/SAIR_2023/main/What-is-an-API-definition.webp)\n",
        "###### image source: https://rapidapi.com/blog/wp-content/uploads/2023/03/What-is-an-API-definition.webp"
      ]
    },
    {
      "cell_type": "markdown",
      "id": "e2b1efee-e5ad-45bc-a1f8-16515b8d4452",
      "metadata": {
        "deletable": false,
        "editable": false,
        "id": "e2b1efee-e5ad-45bc-a1f8-16515b8d4452",
        "tags": []
      },
      "source": [
        "### College Scorecard\n",
        "\n",
        "#### Compendium of Institute Level, time series data from the US Department of Education\n",
        "\n",
        "#### Established to increase transparency and enable fair comparisons between colleges\n",
        "\n",
        "#### If you already have a connection to the Scorecard data, you may skip the steps below. Just locate your API key, and have it ready for use later in this workbook\n",
        "\n",
        "#### If you are unable to request an API key (which should not be the case), you will use a sample of data from a CSV\n",
        "\n",
        "Reference to College Scorecard API: https://github.com/RTICWDT/open-data-maker/blob/master/API.md"
      ]
    },
    {
      "cell_type": "markdown",
      "id": "74df6a59",
      "metadata": {
        "deletable": false,
        "editable": false,
        "id": "74df6a59",
        "tags": []
      },
      "source": [
        "### Step 1: Go to the Key Request page: https://collegescorecard.ed.gov/data/documentation/\n",
        "\n",
        "### Step 2: Scroll down to this section:\n",
        "\n",
        "![image.png](https://raw.githubusercontent.com/dlyczak3/SAIR_2023/main/scorecard_api.png)\n",
        "\n",
        "### Step 3: If you're not a robot / bot, please click and complete the Captcha\n",
        "\n",
        "### Step 4: Complete the 3 required fields\n",
        "\n"
      ]
    },
    {
      "cell_type": "markdown",
      "id": "1910a68a-2ba9-4d02-8608-9bbb48948c8a",
      "metadata": {
        "deletable": false,
        "editable": false,
        "id": "1910a68a-2ba9-4d02-8608-9bbb48948c8a",
        "tags": []
      },
      "source": [
        "### Python\n",
        "#### Python is a high level programming language\n",
        "#### Further details on Python are beyond the scope of this demo,\n",
        "#### However, to help (and show video capabilities of Jupyter) run the cell below by clicking the $\\blacktriangleright$ button\n",
        "###### Note, the $\\blacktriangleright$ icon is a result of Latex. If you're familiar with Latex, its functionality can be used natively in Jupyter"
      ]
    },
    {
      "cell_type": "code",
      "execution_count": null,
      "id": "7f8f3c18-99ff-4c65-b9f9-11b02f1e743f",
      "metadata": {
        "deletable": false,
        "editable": false,
        "id": "7f8f3c18-99ff-4c65-b9f9-11b02f1e743f",
        "tags": [],
        "cellView": "form"
      },
      "outputs": [],
      "source": [
        "#@title <font color='#E04F39'>Running this code shows how we can add video</font>\n",
        "from IPython.display import Audio,Image, YouTubeVideo\n",
        "id='kqtD5dpn9C8?si=kgYhoEKm5uqmsjwy'\n",
        "YouTubeVideo(id=id,width=600,height=300)"
      ]
    },
    {
      "cell_type": "markdown",
      "id": "4013eb6d-761e-4c5f-912f-79c4315abaa5",
      "metadata": {
        "deletable": false,
        "editable": false,
        "id": "4013eb6d-761e-4c5f-912f-79c4315abaa5",
        "tags": []
      },
      "source": [
        "## Stage 1: Loading Data\n",
        "\n",
        "#### To further demo Jupyter Notebooks, we will walk through a quick analysis using scorecard data\n",
        "\n",
        "#### Interactivity was built into the notebook. For a handy reference on building your own: https://ipywidgets.readthedocs.io/en/latest/examples/Widget%20Events.html"
      ]
    },
    {
      "cell_type": "code",
      "execution_count": null,
      "id": "0023feaf-25da-4d19-a338-9a5726ec5351",
      "metadata": {
        "cellView": "form",
        "deletable": false,
        "editable": false,
        "id": "0023feaf-25da-4d19-a338-9a5726ec5351",
        "tags": []
      },
      "outputs": [],
      "source": [
        "#@title <font color='#E04F39'>Run this cell to check your api key or opt out of using it</font>\n",
        "try:\n",
        "    from ipywidgets import interact, interactive, fixed, interact_manual, Layout, Button, HBox, VBox\n",
        "    import ipywidgets as widgets\n",
        "except:\n",
        "    import micropip\n",
        "    await micropip.install('ipywidgets')\n",
        "    from ipywidgets import interact, interactive, fixed, interact_manual, Layout, Button, HBox, VBox\n",
        "    import ipywidgets as widgets\n",
        "import requests\n",
        "import plotly.graph_objects as go\n",
        "import plotly.express as px\n",
        "import pandas as pd\n",
        "import matplotlib.pyplot as plt\n",
        "\n",
        "def user_input(response):\n",
        "    return response\n",
        "\n",
        "def test_key(key):\n",
        "    key = key.strip()\n",
        "    try:\n",
        "        r = requests.get(f\"https://api.data.gov/ed/collegescorecard/v1/schools.json?latest.school.name=Georgia%20Institute%20of%20Technology&fields=latest.school.name&api_key={key}\")\n",
        "        data = r.json()\n",
        "        if data['results'][0]['latest.school.name'] == \"Georgia Institute of Technology-Main Campus\":\n",
        "            print('your API key was successfully entered, please continue')\n",
        "            return key\n",
        "        else:\n",
        "            print('There was an error with your API Key. Please try again or choose \\'N\\' for accessing via API')\n",
        "            return 'N'\n",
        "    except:\n",
        "        print('There was an error with your API Key. Please try again or choose \\'N\\' for accessing via API')\n",
        "        return 'N'\n",
        "\n",
        "has_key = input(\"Would you like to access the API? Y/N: \")\n",
        "if has_key.strip()[0].lower() == 'y':\n",
        "    api_key = input(\"Please copy and paste your key here: \")\n",
        "    api_key = test_key(api_key)\n",
        "else:\n",
        "    api_key = 'N'\n",
        "    print('You will be using a pre-processed subsection of scorecard data')\n"
      ]
    },
    {
      "cell_type": "markdown",
      "id": "d32b862a-879e-4425-a4ca-53ea082e09d8",
      "metadata": {
        "deletable": false,
        "editable": false,
        "id": "d32b862a-879e-4425-a4ca-53ea082e09d8",
        "tags": []
      },
      "source": [
        "### NOTE If you did not provide an API key, the next few sections do not influence your data and are merely for demonstration"
      ]
    },
    {
      "cell_type": "code",
      "execution_count": null,
      "id": "a3dbf38c-40ef-4f08-b618-61d913eb0e23",
      "metadata": {
        "cellView": "form",
        "deletable": false,
        "editable": false,
        "id": "a3dbf38c-40ef-4f08-b618-61d913eb0e23",
        "tags": []
      },
      "outputs": [],
      "source": [
        "#@title <font color='#E04F39'>Select the States with universities you're interested in</font>\n",
        "GA = interactive(user_input, response = widgets.Checkbox(value=False,description='Georgia Schools',disabled=False,indent=False,));\n",
        "TN = interactive(user_input, response = widgets.Checkbox(value=False,description='Tennessee Schools',disabled=False,indent=False,));\n",
        "TX = interactive(user_input, response = widgets.Checkbox(value=False,description='Texas Schools',disabled=False,indent=False,));\n",
        "NC = interactive(user_input, response = widgets.Checkbox(value=False,description='North Carolina Schools',disabled=False,indent=False,));\n",
        "FL = interactive(user_input, response = widgets.Checkbox(value=False,description='Florida Schools',disabled=False,indent=False,));\n",
        "AL = interactive(user_input, response = widgets.Checkbox(value=False,description='Alabama Schools',disabled=False,indent=False,));\n",
        "\n",
        "print('You\\'ll be given a list of schools (10 from each state) please choose the states you want to see schools for')\n",
        "display(widgets.HBox((GA, TN, TX)))\n",
        "display(widgets.HBox((NC, FL, AL)))"
      ]
    },
    {
      "cell_type": "code",
      "execution_count": null,
      "id": "9a4297c1-2d1d-41a9-9035-e9cad2eefe57",
      "metadata": {
        "cellView": "form",
        "deletable": false,
        "editable": false,
        "id": "9a4297c1-2d1d-41a9-9035-e9cad2eefe57",
        "jupyter": {
          "source_hidden": true
        },
        "tags": []
      },
      "outputs": [],
      "source": [
        "#@title <font color='#E04F39'>After choosing the states, select the schools you're interested in</font>\n",
        "GA_schools = ['GA Augusta University','GA Clark Atlanta University','GA Columbus State University','GA Emory University','GA Georgia Institute of Technology','GA Georgia State University--Atlanta','GA Kennesaw State University','GA Mercer University','GA University of Georgia--Athens','GA Valdosta State University']\n",
        "AL_schools = ['AL Auburn University--Auburn','AL Samford University','AL Troy University','AL Tuskegee University','AL The University of Alabama','AL Alabama State University','AL University of North Alabama','AL University of Mobile','AL University of South Alabama','AL University of West Alabama']\n",
        "FL_schools = ['FL Barry University','FL Ave Maria University','FL Florida Southern College','FL Florida State University','FL Florida Institute of Technology--Melbourne','FL University of Florida--Gainesville','FL University of Central Florida','FL University of Miami--Coral Gables','FL The University of Tampa','FL University of South Florida']\n",
        "NC_schools = ['NC Appalachian State University','NC Campbell University','NC Duke University','NC East Carolina University','NC Elon University','NC North Carolina State University--Raleigh','NC University of North Carolina at Chapel Hill','NC University of North Carolina at Charlotte','NC Wake Forest University','NC Winston-Salem State University']\n",
        "TN_schools = ['TN Vanderbilt University','TN University of Tennessee--Knoxville','TN The University of the South','TN University of Memphis','TN Tennessee Technological University','TN Carson-Newman University','TN Middle Tennessee State University','TN Lipscomb University','TN Belmont University','TN East Tennessee State University']\n",
        "TX_schools = ['TX Rice University','TX Baylor University--Waco','TX Texas A&M University--College Station','TX Texas Christian University','TX Texas Wesleyan University','TX University of Houston-Clear Lake','TX The University of Texas at Austin','TX Tarleton State University','TX Trinity University--San Antonio','TX Lamar University']\n",
        "GA_select = interactive(user_input, response = widgets.SelectMultiple(options = GA_schools, value = GA_schools, description = 'GA Schools', rows = 11))\n",
        "AL_select = interactive(user_input, response = widgets.SelectMultiple(options = AL_schools, value = AL_schools, description = 'AL Schools', rows = 11))\n",
        "FL_select = interactive(user_input, response = widgets.SelectMultiple(options = FL_schools, value = FL_schools, description = 'FL Schools', rows = 11))\n",
        "NC_select = interactive(user_input, response = widgets.SelectMultiple(options = NC_schools, value = NC_schools, description = 'NC Schools', rows = 11))\n",
        "TN_select = interactive(user_input, response = widgets.SelectMultiple(options = TN_schools, value = TN_schools, description = 'TN Schools', rows = 11))\n",
        "TX_select = interactive(user_input, response = widgets.SelectMultiple(options = TX_schools, value = TX_schools, description = 'TX Schools', rows = 11))\n",
        "states = [GA_select, TN_select, TX_select, NC_select, FL_select, AL_select]\n",
        "tf_mask = [GA.result, TN.result, TX.result, NC.result, FL.result, AL.result]\n",
        "to_display = [states[i] for i in range(len(states)) if tf_mask[i] == True]\n",
        "\n",
        "if len(to_display) < 5:\n",
        "    display(widgets.HBox(tuple(to_display)))\n",
        "else:\n",
        "    left_box = HBox(to_display[3:])\n",
        "    right_box = HBox(to_display[:3])\n",
        "    display(VBox([left_box, right_box]))"
      ]
    },
    {
      "cell_type": "markdown",
      "id": "0878320c-c27b-4027-9e81-d4498c71c8f9",
      "metadata": {
        "deletable": false,
        "editable": false,
        "id": "0878320c-c27b-4027-9e81-d4498c71c8f9",
        "tags": []
      },
      "source": [
        "#### By running the cell below, you have a chance to add your school (or another school of interest)\n",
        "#### You'll be asked for the School state 2 digit code (example: IL), school name (example: University of Illinois Urbana-Champaign), school city (example: Champaign)\n",
        "#### This information can be found here: https://collegescorecard.ed.gov/"
      ]
    },
    {
      "cell_type": "code",
      "execution_count": null,
      "id": "f047594b-8a3f-4138-ae84-5f622124e03f",
      "metadata": {
        "cellView": "form",
        "deletable": false,
        "editable": false,
        "id": "f047594b-8a3f-4138-ae84-5f622124e03f",
        "jupyter": {
          "source_hidden": true
        },
        "tags": []
      },
      "outputs": [],
      "source": [
        "#@title <font color='#E04F39'>This allows you to add a specific school</font>\n",
        "specific_school = input(\"Did you not see your school and want to attempt to add it? Y/N: \")\n",
        "if specific_school.strip()[0].lower() == 'y':\n",
        "    school_detail = input(\"Please enter the information for the target college (example: GA, Georgia Institute of Technology, Atlanta): \")\n",
        "    state, school, city = school_detail.split(',')\n",
        "    encode = f'{state.strip()} {school.strip()}--{city.strip()}'\n",
        "    print('Your target school has been added to the data collection')\n",
        "else:\n",
        "    encode = 'N'\n",
        "    print('Please continue')"
      ]
    },
    {
      "cell_type": "markdown",
      "id": "9a691e6c-5d12-420c-a666-2c67f9f56397",
      "metadata": {
        "deletable": false,
        "editable": false,
        "id": "9a691e6c-5d12-420c-a666-2c67f9f56397",
        "tags": []
      },
      "source": [
        "## Running the code below will create your data set! Please try to only run the cell below once to avoid overloading the API"
      ]
    },
    {
      "cell_type": "code",
      "execution_count": null,
      "id": "bf92be31-6f10-4e15-b6be-3128610a83f2",
      "metadata": {
        "cellView": "form",
        "deletable": false,
        "editable": false,
        "id": "bf92be31-6f10-4e15-b6be-3128610a83f2",
        "tags": []
      },
      "outputs": [],
      "source": [
        "#@title <font color='#E04F39'>Create your DataFrame (only run once plz)</font>\n",
        "\n",
        "temp_list = [i.result for i in states if type(i.result)!= None]\n",
        "school_list = set()\n",
        "for i in range(len(temp_list)):\n",
        "    if temp_list[i] != None:\n",
        "        for j in temp_list[i]:\n",
        "            school_list.add(j)\n",
        "    else:\n",
        "        continue\n",
        "if encode != 'N' and encode not in school_list:\n",
        "    school_list.add(encode)\n",
        "\n",
        "def string_convert(college):\n",
        "    college = college.replace('&', ' ')\n",
        "    state = college[:2]\n",
        "    name = college[3:].replace(' ', '%20')\n",
        "    try:\n",
        "        clean_name, city = name.split('--')\n",
        "        return f\"latest.school.name={clean_name.replace('--','')}&latest.school.state={state}&latest.school.city={city}&latest.school.operating=1&latest.school.main_campus=1\"\n",
        "    except:\n",
        "        return f\"latest.school.name={name}&latest.school.state={state}&latest.school.operating=1&latest.school.main_campus=1\"\n",
        "\n",
        "def locale(code):\n",
        "    locale_dict = {11: 'City-Large', 12: 'City-Midsize', 13: 'City-Small', 21: 'Suburb-Large', 22:\t'Suburb-Midsize', 23:\t'Suburb-Small', 31: 'Town-Fringe', 32: 'Town-Distant', 33: 'Town-Remote', 41: 'Rural-Fringe', 42: 'Rural-Distant', 43: 'Rural-Remote'}\n",
        "    return locale_dict[code]\n",
        "\n",
        "def ownership(code):\n",
        "    ownership_dict = {1: 'Public', 2: 'Private', 3: 'For profit'}\n",
        "    return ownership_dict[code]\n",
        "\n",
        "def get_data(school, api_key):\n",
        "    r = requests.get(f\"https://api.data.gov/ed/collegescorecard/v1/schools.json?{string_convert(school)}&fields=latest.school.name,latest.student.demographics.first_generation,latest.student.demographics.median_hh_income,latest.student.retention_rate.overall.full_time,latest.earnings.1_yr_after_completion.median,latest.completion.consumer_rate,latest.cost.avg_net_price.overall,latest.student.size,latest.admissions.admission_rate.overall,latest.student.demographics.race_ethnicity.black,latest.student.demographics.student_faculty_ratio,latest.aid.median_debt_suppressed.completers.overall,latest.school.ownership,latest.school.locale&api_key={api_key}\")\n",
        "    data = r.json()\n",
        "    parse = data['results'][0]\n",
        "    college_data = {}\n",
        "    college_data['College Name'] = parse['latest.school.name']\n",
        "    college_data['PCT First Gen'] = parse['latest.student.demographics.first_generation']\n",
        "    college_data['Median hh Income'] = parse['latest.student.demographics.median_hh_income']\n",
        "    college_data['Retention Rate'] = parse['latest.student.retention_rate.overall.full_time']\n",
        "    college_data['Median Salary 1yr'] = parse['latest.earnings.1_yr_after_completion.median']\n",
        "    college_data['Completion Rate'] = parse['latest.completion.consumer_rate']\n",
        "    college_data['Net Price'] = parse['latest.cost.avg_net_price.overall']\n",
        "    college_data['Student Size'] = parse['latest.student.size']\n",
        "    college_data['Admission Rate'] = parse['latest.admissions.admission_rate.overall']\n",
        "    college_data['PCT Black Students'] = parse['latest.student.demographics.race_ethnicity.black']\n",
        "    college_data['Student Faculty Ratio'] = parse['latest.student.demographics.student_faculty_ratio']\n",
        "    college_data['Median Graduation Debt'] = parse['latest.aid.median_debt_suppressed.completers.overall']\n",
        "    college_data['Control'] = ownership(parse['latest.school.ownership'])\n",
        "    college_data['Locale'] = locale(parse['latest.school.locale'])\n",
        "    df = pd.DataFrame([college_data])\n",
        "    return df\n",
        "\n",
        "if api_key != 'N':\n",
        "    dataframe_list = []\n",
        "    school_list = list(school_list)\n",
        "    for i in range(len(school_list)):\n",
        "        data = get_data(school_list[i], api_key)\n",
        "        dataframe_list.append(data)\n",
        "    df = pd.concat(dataframe_list, ignore_index = True, sort = False)\n",
        "    print('Your data has successfully compiled!')\n",
        "else:\n",
        "    try:\n",
        "        df = pd.read_csv('SAIR_Colleges.csv')\n",
        "    except:\n",
        "        df = pd.read_csv('https://raw.githubusercontent.com/dlyczak3/SAIR_2023/main/SAIR_Colleges.csv?token=GHSAT0AAAAAACIU36VSFIIXLP6YOPGRCVBKZJD7Y5Q')\n",
        "    finally:\n",
        "        print('Your data has is ready to be used!')\n",
        "\n",
        "print('Here is a sample of your data:')\n",
        "df.head()"
      ]
    },
    {
      "cell_type": "markdown",
      "id": "6a98ec77-964e-422b-923e-91c473945282",
      "metadata": {
        "deletable": false,
        "editable": false,
        "id": "6a98ec77-964e-422b-923e-91c473945282",
        "tags": []
      },
      "source": [
        "## Stage 2: Examples of Interactive Data Exploration"
      ]
    },
    {
      "cell_type": "markdown",
      "id": "9ed18bf0-8933-4ecb-86f8-d8830ab590f1",
      "metadata": {
        "deletable": false,
        "editable": false,
        "id": "9ed18bf0-8933-4ecb-86f8-d8830ab590f1",
        "tags": []
      },
      "source": [
        "### The next section shows some tools / ideas for interactive exploration\n",
        "\n",
        "#### To start, run the cell below to be able to select a sorting method for your data"
      ]
    },
    {
      "cell_type": "code",
      "execution_count": null,
      "id": "3f92b538-8574-4223-a893-0d0e0ff8aa61",
      "metadata": {
        "cellView": "form",
        "deletable": false,
        "editable": false,
        "id": "3f92b538-8574-4223-a893-0d0e0ff8aa61",
        "jupyter": {
          "source_hidden": true
        },
        "tags": []
      },
      "outputs": [],
      "source": [
        "#@title  <font color='#E04F39'>Let's find ways to sort our DataFrame</font>\n",
        "sort_by = interactive(user_input, response = widgets.ToggleButtons(options = [i for i in df.columns if df[i].dtype != 'object'],description = 'Sort By:',disabled = False,button_style = ''));\n",
        "asce = interactive(user_input, response = widgets.Checkbox(value=False,description='Check for Ascending',disabled=False,indent=False,));\n",
        "\n",
        "display(widgets.HBox((asce, sort_by)))"
      ]
    },
    {
      "cell_type": "code",
      "execution_count": null,
      "id": "8fe91239-606d-4519-9343-d31ed3d008d3",
      "metadata": {
        "cellView": "form",
        "deletable": false,
        "editable": false,
        "id": "8fe91239-606d-4519-9343-d31ed3d008d3",
        "jupyter": {
          "source_hidden": true
        },
        "tags": []
      },
      "outputs": [],
      "source": [
        "#@title <font color='#E04F39'>Run this cell to display your sorted data</font>\n",
        "sorted_df = df.sort_values(by = sort_by.result, ascending = asce.result)\n",
        "sorted_df = sorted_df[[\"College Name\", sort_by.result]]\n",
        "sorted_df.head(10)"
      ]
    },
    {
      "cell_type": "markdown",
      "id": "25764f4a-4846-436a-9a3b-9f0fb5843549",
      "metadata": {
        "deletable": false,
        "editable": false,
        "id": "25764f4a-4846-436a-9a3b-9f0fb5843549",
        "tags": []
      },
      "source": [
        "### Run the cell below to generate slides for selecting ranges of values"
      ]
    },
    {
      "cell_type": "code",
      "execution_count": null,
      "id": "a6889a02-3780-464b-8c57-e798dc21de7e",
      "metadata": {
        "cellView": "form",
        "deletable": false,
        "editable": false,
        "id": "a6889a02-3780-464b-8c57-e798dc21de7e",
        "tags": []
      },
      "outputs": [],
      "source": [
        "#@title <font color='#E04F39'>Let's set ranges to find a group of schools who match certain criteria</font>\n",
        "column1 = 'Student Size'\n",
        "column2 = 'Admission Rate'\n",
        "column3 = 'Median Salary 1yr'\n",
        "column4 = 'Completion Rate'\n",
        "\n",
        "population = interactive(user_input, response = widgets.IntRangeSlider(min=min(df[column1])-100,max=max(df[column1])+100,step=1,description='Student Size:',disabled=False,continuous_update=False,orientation='horizontal',readout=True,readout_format='d',layout=Layout(width='400px')));\n",
        "admit_rate = interactive(user_input, response = widgets.FloatRangeSlider(min=max(min(df[column2])-0.01,0),max=min(max(df[column2])+0.01,1.0),step=0.001,description='Admit Rate:',disabled=False,continuous_update=False,orientation='horizontal',readout=True, readout_format='.3f',layout=Layout(width='400px')));\n",
        "grad_salary = interactive(user_input, response = widgets.IntRangeSlider(min=min(df[column3])-1000,max=max(df[column3])+1000,step=1,description='Grad Salary:',disabled=False,continuous_update=False,orientation='horizontal',readout=True,readout_format='d',layout=Layout(width='400px')));\n",
        "completion = interactive(user_input, response = widgets.FloatRangeSlider(min=max(min(df[column4])-0.05,0),max=min(max(df[column4])+0.05,1.0),step=0.001,description='Completion Rate:',disabled=False,continuous_update=False,orientation='horizontal',readout=True,readout_format='.3f',layout=Layout(width='400px'),style={'description_width': 'initial'}));\n",
        "\n",
        "left_box = VBox([population, admit_rate])\n",
        "right_box = VBox([grad_salary, completion])\n",
        "HBox([left_box, right_box])"
      ]
    },
    {
      "cell_type": "code",
      "execution_count": null,
      "id": "51be86ee-cee0-47cc-b330-d01a3997a13f",
      "metadata": {
        "cellView": "form",
        "deletable": false,
        "editable": false,
        "id": "51be86ee-cee0-47cc-b330-d01a3997a13f",
        "jupyter": {
          "source_hidden": true
        },
        "tags": []
      },
      "outputs": [],
      "source": [
        "#@title <font color='#E04F39'>Run this cell to view school(s) matching your criteria</font>\n",
        "\n",
        "filtered_df = df[(df[column1].between(population.result[0], population.result[1]) & df[column2].between(admit_rate.result[0], admit_rate.result[1]) & df[column3].between(grad_salary.result[0], grad_salary.result[1]) & df[column4].between(completion.result[0], completion.result[1]))]\n",
        "\n",
        "display(filtered_df)"
      ]
    },
    {
      "cell_type": "markdown",
      "id": "0193b10f-6686-4596-a3d9-6f828a6c47c5",
      "metadata": {
        "deletable": false,
        "editable": false,
        "id": "0193b10f-6686-4596-a3d9-6f828a6c47c5",
        "tags": []
      },
      "source": [
        "### Lastly, let's visualize our data!\n",
        "\n",
        "### We will be making a parallel coordinates graph. For more information on them: https://www.data-to-viz.com/graph/parallel.html\n",
        "\n",
        "#### To generate your graph, run the cell below and select the layers you want to visualize"
      ]
    },
    {
      "cell_type": "code",
      "execution_count": null,
      "id": "d1a10b25-7f1a-4a3f-b4b2-e07330e3b5a9",
      "metadata": {
        "cellView": "form",
        "deletable": false,
        "editable": false,
        "id": "d1a10b25-7f1a-4a3f-b4b2-e07330e3b5a9",
        "jupyter": {
          "source_hidden": true
        },
        "tags": []
      },
      "outputs": [],
      "source": [
        "#@title  <font color='#E04F39'>Run this cell to set the order and features for your parallel coordinates</font>\n",
        "\n",
        "df['idx'] = df.index\n",
        "num_cats = [i for i in df.columns if df[i].dtype != 'object'][:-1]\n",
        "variable_one = interactive(user_input, response = widgets.RadioButtons(options=num_cats, layout = {'width': 'max-content'}, value = 'Admission Rate', description = 'Layer One:', disabled=False));\n",
        "variable_two = interactive(user_input, response = widgets.RadioButtons(options=num_cats, layout = {'width': 'max-content'}, value = 'Student Size', description = 'Layer Two:', disabled=False));\n",
        "variable_three = interactive(user_input, response = widgets.RadioButtons(options=num_cats, layout = {'width': 'max-content'}, value = 'Completion Rate', description = 'Layer Three:', disabled=False));\n",
        "variable_four = interactive(user_input, response = widgets.RadioButtons(options=num_cats, layout = {'width': 'max-content'}, value = 'Median Salary 1yr', description = 'Layer Four:', disabled=False));\n",
        "\n",
        "display(widgets.HBox((variable_one, variable_two,variable_three,variable_four )))"
      ]
    },
    {
      "cell_type": "code",
      "execution_count": null,
      "id": "53be325b-cd9b-43e7-86ae-74a5de907eed",
      "metadata": {
        "cellView": "form",
        "deletable": false,
        "editable": false,
        "id": "53be325b-cd9b-43e7-86ae-74a5de907eed",
        "tags": []
      },
      "outputs": [],
      "source": [
        "#@title  <font color='#E04F39'>Run this cell to generate your graph!</font>\n",
        "\n",
        "n_colors = len(df.columns)\n",
        "colors = px.colors.sample_colorscale(\"IceFire\", [n/(n_colors - 1) for n in range(n_colors)])\n",
        "\n",
        "import matplotlib.pylab as plt\n",
        "plt.rcParams['figure.dpi'] = 200\n",
        "\n",
        "fig = go.Figure(data=\n",
        "    go.Parcoords(\n",
        "        line = dict(color = df['idx'],\n",
        "                   colorscale = colors,\n",
        "                   showscale = False),\n",
        "        dimensions = list([\n",
        "            dict(range=[0,max(df['idx'])],\n",
        "                       tickvals = df['idx'], ticktext = df['College Name'],\n",
        "                       label ='College Name', values = df['idx']),\n",
        "            dict(range = [min(df[variable_one.result]),max(df[variable_one.result])],\n",
        "                 label = variable_one.result, values = df[variable_one.result]),\n",
        "            dict(range = [min(df[variable_two.result]),max(df[variable_two.result])],\n",
        "                 label = variable_two.result, values = df[variable_two.result]),\n",
        "            dict(range = [min(df[variable_three.result]),max(df[variable_three.result])],\n",
        "                 label = variable_three.result, values = df[variable_three.result]),\n",
        "            dict(range = [min(df[variable_four.result]),max(df[variable_four.result])],\n",
        "                 label = variable_four.result, values = df[variable_four.result])])))\n",
        "fig.update_layout(width = 1500, height = 500, plot_bgcolor ='#54585A', autosize = False, margin=dict(l=300,t=60,b=50), font_size = 18, font_color = '#54585A')\n",
        "fig.show()"
      ]
    },
    {
      "cell_type": "markdown",
      "id": "cd9650d6-c617-4972-ad49-1c99ac5e6bc9",
      "metadata": {
        "deletable": false,
        "editable": false,
        "tags": [],
        "id": "cd9650d6-c617-4972-ad49-1c99ac5e6bc9"
      },
      "source": [
        "## General note on when to use a table vs graph\n",
        "### Stephen Few, Show Me the Numbers\n",
        "#### Use Tables when:\n",
        "##### (1) The document will be used to lookup individual values\n",
        "##### (2) The document will compare individual values\n",
        "##### (3) Precise values are required\n",
        "##### (4) The Quantitative info involves more than one unit of measure\n",
        "\n",
        "#### Use Graphs when:\n",
        "##### (1) The message is contained in the shape of the values\n",
        "##### (2) The document will be used to reveal value relationships\n",
        "###### ref: https://courses.washington.edu/info424/2007/readings/Show_Me_the_Numbers_v2.pdf"
      ]
    },
    {
      "cell_type": "markdown",
      "id": "2315ae83-b9d9-4b9c-b617-f15ffdb08e62",
      "metadata": {
        "deletable": false,
        "editable": false,
        "id": "2315ae83-b9d9-4b9c-b617-f15ffdb08e62",
        "tags": []
      },
      "source": [
        "## Stage 3: Free Range\n",
        "\n",
        "### You now have a chance to play around with the data! If you're not familiar, the library we are primarily using is called \"Pandas\"\n",
        "\n",
        "#### Some simple hints are included, please feel free to use them or explore on your own! Google is your friend"
      ]
    },
    {
      "cell_type": "code",
      "execution_count": null,
      "id": "df596479-a621-49cc-84ec-f9076d9f826d",
      "metadata": {
        "deletable": false,
        "editable": false,
        "id": "df596479-a621-49cc-84ec-f9076d9f826d",
        "tags": []
      },
      "outputs": [],
      "source": [
        "# Rerunning this cell restarts your DataFrame\n",
        "data = df[df.columns[:-1]]\n",
        "print('Your DataFrame is called \\'Data\\'')\n",
        "print('Below are your DataFrame\\'s columns:')\n",
        "for i in data.columns:\n",
        "    print(i)\n",
        "print('You can access a single column like this ==> data[\\'column name\\']')"
      ]
    },
    {
      "cell_type": "code",
      "execution_count": null,
      "id": "a7f53e30-0021-4d49-94a7-9a308bfed130",
      "metadata": {
        "id": "a7f53e30-0021-4d49-94a7-9a308bfed130"
      },
      "outputs": [],
      "source": [
        "#To view a description of your data, uncommment the code below and run this cell. What does this info tell you?\n",
        "#data.describe()"
      ]
    },
    {
      "cell_type": "code",
      "execution_count": null,
      "id": "a4235ce1-8966-49c7-8198-131397a85213",
      "metadata": {
        "id": "a4235ce1-8966-49c7-8198-131397a85213"
      },
      "outputs": [],
      "source": [
        "#Uncommenting the first line will create a binary indicator for whether the school is public (1) or private (0)\n",
        "##Uncommenting the second line will generate a correlation matrix\n",
        "#data['Public School'] = data.Control.apply(lambda x: 1 if x == \"Public\" else 0)\n",
        "##data.corr()\n",
        "#### reference for info on .corr: https://www.w3schools.com/python/pandas/pandas_correlations.asp"
      ]
    },
    {
      "cell_type": "code",
      "execution_count": null,
      "id": "964bf922-3b32-4b09-96ee-e5fbf8c79a4e",
      "metadata": {
        "id": "964bf922-3b32-4b09-96ee-e5fbf8c79a4e"
      },
      "outputs": [],
      "source": [
        "#If you're interested in identifying schools who meet your custom criteria, check out this reference!\n",
        "##ref: https://www.geeksforgeeks.org/selecting-rows-in-pandas-dataframe-based-on-conditions/\n",
        "### ref2: https://www.geeksforgeeks.org/filter-pandas-dataframe-with-multiple-conditions/"
      ]
    },
    {
      "cell_type": "code",
      "execution_count": null,
      "id": "e2f01f22-8b63-4060-a0f2-143fcaaa12d1",
      "metadata": {
        "id": "e2f01f22-8b63-4060-a0f2-143fcaaa12d1"
      },
      "outputs": [],
      "source": [
        "#Why not try and create some plots / charts!\n",
        "##ref: https://www.w3schools.com/python/pandas/pandas_plotting.asp"
      ]
    },
    {
      "cell_type": "markdown",
      "id": "bcc8d386-c483-4589-a63c-e40f65a7823f",
      "metadata": {
        "deletable": false,
        "editable": false,
        "id": "bcc8d386-c483-4589-a63c-e40f65a7823f",
        "tags": []
      },
      "source": [
        "For a Jupyter counterfactual: https://betterprogramming.pub/pros-and-cons-for-jupyter-notebooks-as-your-editor-for-data-science-work-tip-pycharm-is-probably-40e88f7827cb"
      ]
    },
    {
      "cell_type": "code",
      "execution_count": null,
      "id": "2a9b3413-771a-42d1-865a-963f37b80a11",
      "metadata": {
        "id": "2a9b3413-771a-42d1-865a-963f37b80a11"
      },
      "outputs": [],
      "source": [
        "###Select majors by college (for implementing multiple colleges\n",
        "##Simple attempt\n",
        "colls = ['College of Engineering', 'Ivan Allen College', 'College of Sciences', 'Scheller College of Business', 'College of Design', 'College of Computing']\n",
        "\n",
        "tab_contents = colls\n",
        "children = [widgets.Text(description=name) for name in tab_contents]\n",
        "tab = widgets.Tab()\n",
        "tab.children = children\n",
        "tab.titles = [str(i) for i in range(len(children))]\n",
        "tab\n",
        "\n",
        "##Advanced attempt\n",
        "children = [widgets.SelectMultiple(\n",
        "    options = colls,\n",
        "    value= colls,\n",
        "    #rows=10,\n",
        "    description='Degrees',\n",
        "    disabled=False\n",
        ") for name in colls]\n",
        "tab = widgets.Tab()\n",
        "tab.children = children\n",
        "tab.titles = [str(i) for i in range(len(children))]\n",
        "tab"
      ]
    }
  ],
  "metadata": {
    "colab": {
      "provenance": []
    },
    "kernelspec": {
      "display_name": "Python 3 (ipykernel)",
      "language": "python",
      "name": "python3"
    },
    "language_info": {
      "codemirror_mode": {
        "name": "ipython",
        "version": 3
      },
      "file_extension": ".py",
      "mimetype": "text/x-python",
      "name": "python",
      "nbconvert_exporter": "python",
      "pygments_lexer": "ipython3",
      "version": "3.9.13"
    }
  },
  "nbformat": 4,
  "nbformat_minor": 5
}